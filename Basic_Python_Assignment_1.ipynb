{
 "cells": [
  {
   "cell_type": "markdown",
   "metadata": {},
   "source": [
    "#######   Python Basic Assignment   ###########\n",
    "\n",
    "############### Assignment -1 #################"
   ]
  },
  {
   "cell_type": "code",
   "execution_count": null,
   "metadata": {},
   "outputs": [],
   "source": [
    "# Q-1: In the below elements which of them are values or an expression? eg:- values can be integer or string and expressions will be mathematical operators.\n",
    "\n",
    "# Answer:    Expressions are = [* , - , / , + , -87.8]\n",
    "#            Values are = ['hello', '6']"
   ]
  },
  {
   "cell_type": "code",
   "execution_count": 6,
   "metadata": {},
   "outputs": [],
   "source": [
    "# Q-2: What is the difference between string and variable?\n",
    "\n",
    "# Answer: The difference is explained through an example.\n",
    "\n",
    "x = 'shubh'\n",
    "\n",
    "# here 'shubh' is string that we are trying to store in variable 'x'."
   ]
  },
  {
   "cell_type": "code",
   "execution_count": 8,
   "metadata": {},
   "outputs": [
    {
     "name": "stdout",
     "output_type": "stream",
     "text": [
      "<class 'int'>\n",
      "<class 'str'>\n",
      "<class 'complex'>\n"
     ]
    }
   ],
   "source": [
    "# Q-3: Describe three different data types.\n",
    "\n",
    "# Answer:\n",
    "\n",
    "a = 23\n",
    "b = 'shubh'\n",
    "c = 6+8j\n",
    "print(type(a))\n",
    "print(type(b))\n",
    "print(type(c))\n",
    "\n",
    "# here a is an integer, b is a string and c is a complex data type."
   ]
  },
  {
   "cell_type": "code",
   "execution_count": 10,
   "metadata": {},
   "outputs": [],
   "source": [
    "# Q-4: What is an expression made up of? What do all expressions do?\n",
    "\n",
    "# answer: Expression is made up of a combination of an integer or string with the mathematical operators. \n",
    "#         Expressions will do:\n",
    "#  1. the addition of an interger or string\n",
    "#  2. Multiplication of interger or string etc."
   ]
  },
  {
   "cell_type": "code",
   "execution_count": null,
   "metadata": {},
   "outputs": [],
   "source": [
    "# Q-5: This assignment statements, like spam = 10. What is the difference between an expression and a statement?\n",
    "\n",
    "# answer: \n",
    "Spam = 10\n",
    "\n",
    "# here this a statement as it ry to assign the value '10' into spam variable. While the expression is a combination of an integer or string with the mathematical operators."
   ]
  },
  {
   "cell_type": "code",
   "execution_count": 12,
   "metadata": {},
   "outputs": [
    {
     "name": "stdout",
     "output_type": "stream",
     "text": [
      "22\n",
      "23\n"
     ]
    }
   ],
   "source": [
    "# Q-6: After running the following code, what does the variable bacon contain?\n",
    "\n",
    "# Answer:\n",
    "\n",
    "bacon = 22\n",
    "bacon + 1\n",
    "print(bacon)\n",
    "\n",
    "# here bacon will contain the value 22. if we will run the following code then:\n",
    "\n",
    "bacon = 22\n",
    "bacon = bacon + 1\n",
    "print(bacon)\n",
    "\n",
    "# it will give you 23."
   ]
  },
  {
   "cell_type": "code",
   "execution_count": 15,
   "metadata": {},
   "outputs": [
    {
     "data": {
      "text/plain": [
       "'spamspamspam'"
      ]
     },
     "execution_count": 15,
     "metadata": {},
     "output_type": "execute_result"
    }
   ],
   "source": [
    "# Q-7: What should the values of the following two terms be?\n",
    "\n",
    "# answer:\n",
    "\n",
    "#'spam' + 'spamspam'\n",
    "'spam' * 3\n",
    "\n",
    "\n",
    "# Both term will give you \"spamspamspam\""
   ]
  },
  {
   "cell_type": "code",
   "execution_count": 19,
   "metadata": {},
   "outputs": [
    {
     "ename": "SyntaxError",
     "evalue": "cannot assign to literal (<ipython-input-19-2b9a31c95616>, line 7)",
     "output_type": "error",
     "traceback": [
      "\u001b[1;36m  File \u001b[1;32m\"<ipython-input-19-2b9a31c95616>\"\u001b[1;36m, line \u001b[1;32m7\u001b[0m\n\u001b[1;33m    100 = 'hundred'\u001b[0m\n\u001b[1;37m    ^\u001b[0m\n\u001b[1;31mSyntaxError\u001b[0m\u001b[1;31m:\u001b[0m cannot assign to literal\n"
     ]
    }
   ],
   "source": [
    "# Q-8: Why is eggs a valid variable name while 100 is invalid?\n",
    "\n",
    "# Answer: integer cannont be a variable but string can be. Let understand thorugh an exapmle.\n",
    "\n",
    "eggs = 25\n",
    "\n",
    "100 = 'hundred'\n",
    "\n",
    "# Will get an error like this\n",
    "\n",
    "#File \"<ipython-input-19-2b9a31c95616>\", line 7\n",
    "#   100 = 'hundred'\n",
    "#   ^\n",
    "#SyntaxError: cannot assign to literal"
   ]
  },
  {
   "cell_type": "code",
   "execution_count": null,
   "metadata": {},
   "outputs": [],
   "source": [
    "# Q-9: What three functions can be used to get the integer, floating-point number, or string version of a value?\n",
    "\n",
    "# Answer: To get integer:  int()\n",
    "#         To get float:    float()\n",
    "#         To get string:   str()"
   ]
  },
  {
   "cell_type": "code",
   "execution_count": 21,
   "metadata": {},
   "outputs": [
    {
     "data": {
      "text/plain": [
       "'I have eaten 99 burritos.'"
      ]
     },
     "execution_count": 21,
     "metadata": {},
     "output_type": "execute_result"
    }
   ],
   "source": [
    "# Q-10: Why does this expression cause an error? How can you fix it?\n",
    "#  'I have eaten ' + 99 + ' burritos.'\n",
    "\n",
    "# Answer: Strign and integer can't be added. Meaing, hetrogeneous data cannot be added.\n",
    "#    To fix the error data type has to be the same. Like:\n",
    "\n",
    "'I have eaten ' + '99' + ' burritos.'"
   ]
  },
  {
   "cell_type": "code",
   "execution_count": null,
   "metadata": {},
   "outputs": [],
   "source": []
  }
 ],
 "metadata": {
  "kernelspec": {
   "display_name": "Python 3",
   "language": "python",
   "name": "python3"
  },
  "language_info": {
   "codemirror_mode": {
    "name": "ipython",
    "version": 3
   },
   "file_extension": ".py",
   "mimetype": "text/x-python",
   "name": "python",
   "nbconvert_exporter": "python",
   "pygments_lexer": "ipython3",
   "version": "3.8.5"
  }
 },
 "nbformat": 4,
 "nbformat_minor": 4
}
