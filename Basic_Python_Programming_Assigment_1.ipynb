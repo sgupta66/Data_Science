{
 "cells": [
  {
   "cell_type": "markdown",
   "metadata": {},
   "source": [
    "########### Python Basic Programming Assignment ###########\n",
    "\n",
    "############### Assignment -1 #################"
   ]
  },
  {
   "cell_type": "code",
   "execution_count": 1,
   "metadata": {},
   "outputs": [
    {
     "name": "stdout",
     "output_type": "stream",
     "text": [
      "\"Hello Python\"\n"
     ]
    }
   ],
   "source": [
    "# Q-1: 1.\tWrite a Python program to print \"Hello Python\"?\n",
    "\n",
    "print('\"Hello Python\"')"
   ]
  },
  {
   "cell_type": "code",
   "execution_count": 5,
   "metadata": {},
   "outputs": [
    {
     "name": "stdout",
     "output_type": "stream",
     "text": [
      "48\n",
      "abcd\n",
      "9.0\n"
     ]
    }
   ],
   "source": [
    "# Q-2: Write a Python program to do arithmetical operations addition and division.?\n",
    "\n",
    "a = 23 + 25          # addition of two integer\n",
    "b = 'ab' + 'cd'      # addition of two string\n",
    "c = 45 / 5           # division of two integer\n",
    "print(a)\n",
    "print(b)\n",
    "print(c)"
   ]
  },
  {
   "cell_type": "code",
   "execution_count": 8,
   "metadata": {},
   "outputs": [
    {
     "name": "stdout",
     "output_type": "stream",
     "text": [
      "12.56\n"
     ]
    }
   ],
   "source": [
    "# Q-3: Write a Python program to find the area of a triangle?\n",
    "\n",
    "# answer: the area of an trianlge is pi*r^2. So\n",
    "\n",
    "r = 2\n",
    "pi = 3.14\n",
    "area = pi*(r*2)\n",
    "print(area)"
   ]
  },
  {
   "cell_type": "code",
   "execution_count": 12,
   "metadata": {},
   "outputs": [
    {
     "name": "stdout",
     "output_type": "stream",
     "text": [
      "a = 3\n",
      "b = 2\n"
     ]
    }
   ],
   "source": [
    "# Q-4: Write a Python program to swap two variables?\n",
    "\n",
    "a = 2\n",
    "b = 3\n",
    "\n",
    "c = a\n",
    "a = b\n",
    "b = c\n",
    "\n",
    "print('a =',a)\n",
    "print('b =',b)"
   ]
  },
  {
   "cell_type": "code",
   "execution_count": 17,
   "metadata": {},
   "outputs": [
    {
     "name": "stdout",
     "output_type": "stream",
     "text": [
      "29\n"
     ]
    }
   ],
   "source": [
    "# Q-5: Write a Python program to generate a random number?\n",
    "\n",
    "import random\n",
    "\n",
    "print(random.randint(0,100))"
   ]
  },
  {
   "cell_type": "code",
   "execution_count": null,
   "metadata": {},
   "outputs": [],
   "source": []
  }
 ],
 "metadata": {
  "kernelspec": {
   "display_name": "Python 3",
   "language": "python",
   "name": "python3"
  },
  "language_info": {
   "codemirror_mode": {
    "name": "ipython",
    "version": 3
   },
   "file_extension": ".py",
   "mimetype": "text/x-python",
   "name": "python",
   "nbconvert_exporter": "python",
   "pygments_lexer": "ipython3",
   "version": "3.8.5"
  }
 },
 "nbformat": 4,
 "nbformat_minor": 4
}
