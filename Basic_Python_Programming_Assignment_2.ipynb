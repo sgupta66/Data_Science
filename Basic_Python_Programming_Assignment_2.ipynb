{
 "cells": [
  {
   "cell_type": "markdown",
   "metadata": {},
   "source": [
    "########### Python Programming Basic Assignment ###########\n",
    "\n",
    "############### Assignment -2 #################"
   ]
  },
  {
   "cell_type": "code",
   "execution_count": 10,
   "metadata": {},
   "outputs": [
    {
     "name": "stdout",
     "output_type": "stream",
     "text": [
      "Please give a value in KM 5\n",
      "3.106863683249034\n"
     ]
    }
   ],
   "source": [
    "# Q-1: Write a Python program to convert kilometers to miles?\n",
    "\n",
    "x = input('Please give a value in KM ')\n",
    "\n",
    "y = float(x)/1.60934           # This will convert KM into mile\n",
    "\n",
    "print(y)"
   ]
  },
  {
   "cell_type": "code",
   "execution_count": 8,
   "metadata": {},
   "outputs": [
    {
     "name": "stdout",
     "output_type": "stream",
     "text": [
      "Please give a value in degree celcius 4\n",
      "39.2\n"
     ]
    }
   ],
   "source": [
    "# Q-2: Write a Python program to convert Celsius to Fahrenheit?\n",
    "\n",
    "x = input('Please give a value in degree celcius ')\n",
    "\n",
    "y = (float(x)*(9/5)) + 32           # Formula for converting celcius to fahrenheit\n",
    "\n",
    "print(y)"
   ]
  },
  {
   "cell_type": "code",
   "execution_count": 12,
   "metadata": {},
   "outputs": [
    {
     "name": "stdout",
     "output_type": "stream",
     "text": [
      "Please enter the year 2020\n",
      "                                  2020\n",
      "\n",
      "      January                   February                   March\n",
      "Mo Tu We Th Fr Sa Su      Mo Tu We Th Fr Sa Su      Mo Tu We Th Fr Sa Su\n",
      "       1  2  3  4  5                      1  2                         1\n",
      " 6  7  8  9 10 11 12       3  4  5  6  7  8  9       2  3  4  5  6  7  8\n",
      "13 14 15 16 17 18 19      10 11 12 13 14 15 16       9 10 11 12 13 14 15\n",
      "20 21 22 23 24 25 26      17 18 19 20 21 22 23      16 17 18 19 20 21 22\n",
      "27 28 29 30 31            24 25 26 27 28 29         23 24 25 26 27 28 29\n",
      "                                                    30 31\n",
      "\n",
      "       April                      May                       June\n",
      "Mo Tu We Th Fr Sa Su      Mo Tu We Th Fr Sa Su      Mo Tu We Th Fr Sa Su\n",
      "       1  2  3  4  5                   1  2  3       1  2  3  4  5  6  7\n",
      " 6  7  8  9 10 11 12       4  5  6  7  8  9 10       8  9 10 11 12 13 14\n",
      "13 14 15 16 17 18 19      11 12 13 14 15 16 17      15 16 17 18 19 20 21\n",
      "20 21 22 23 24 25 26      18 19 20 21 22 23 24      22 23 24 25 26 27 28\n",
      "27 28 29 30               25 26 27 28 29 30 31      29 30\n",
      "\n",
      "        July                     August                  September\n",
      "Mo Tu We Th Fr Sa Su      Mo Tu We Th Fr Sa Su      Mo Tu We Th Fr Sa Su\n",
      "       1  2  3  4  5                      1  2          1  2  3  4  5  6\n",
      " 6  7  8  9 10 11 12       3  4  5  6  7  8  9       7  8  9 10 11 12 13\n",
      "13 14 15 16 17 18 19      10 11 12 13 14 15 16      14 15 16 17 18 19 20\n",
      "20 21 22 23 24 25 26      17 18 19 20 21 22 23      21 22 23 24 25 26 27\n",
      "27 28 29 30 31            24 25 26 27 28 29 30      28 29 30\n",
      "                          31\n",
      "\n",
      "      October                   November                  December\n",
      "Mo Tu We Th Fr Sa Su      Mo Tu We Th Fr Sa Su      Mo Tu We Th Fr Sa Su\n",
      "          1  2  3  4                         1          1  2  3  4  5  6\n",
      " 5  6  7  8  9 10 11       2  3  4  5  6  7  8       7  8  9 10 11 12 13\n",
      "12 13 14 15 16 17 18       9 10 11 12 13 14 15      14 15 16 17 18 19 20\n",
      "19 20 21 22 23 24 25      16 17 18 19 20 21 22      21 22 23 24 25 26 27\n",
      "26 27 28 29 30 31         23 24 25 26 27 28 29      28 29 30 31\n",
      "                          30\n",
      "\n"
     ]
    }
   ],
   "source": [
    "# Q-3: Write a Python program to display calendar?\n",
    "\n",
    "import calendar\n",
    "\n",
    "a = int(input('Please enter the year '))\n",
    "\n",
    "print(calendar.calendar(a))         # This will print the calender for given year"
   ]
  },
  {
   "cell_type": "code",
   "execution_count": 24,
   "metadata": {},
   "outputs": [
    {
     "name": "stdout",
     "output_type": "stream",
     "text": [
      "Enter coefficient \"a\" 1\n",
      "Enter coefficient \"b\" 3\n",
      "Enter coefficient \"c\" 2\n",
      "First solution (root) will be -1.0\n",
      "Second solution (root) will be -2.0\n"
     ]
    }
   ],
   "source": [
    "# Q-4: Write a Python program to solve quadratic equation?\n",
    "\n",
    "# The standard form of a quadratic equation is ax^2 + bx + c = 0\n",
    "# The solution will be:  (- b + root(b^2 - 4*a*c))/2*a and (- b - root(b^2 - 4*a*c))/2*a\n",
    "\n",
    "a = int(input('Enter coefficient \"a\" '))\n",
    "b = int(input('Enter coefficient \"b\" '))\n",
    "c = int(input('Enter coefficient \"c\" '))\n",
    "\n",
    "x1 = ((-b) + ((b*b) - 4*a*c)**0.5)/(2*a)\n",
    "x2 = ((-b) - ((b*b) - 4*a*c)**0.5)/(2*a)\n",
    "\n",
    "print('First solution (root) will be', x1)\n",
    "print('Second solution (root) will be', x2)"
   ]
  },
  {
   "cell_type": "code",
   "execution_count": 27,
   "metadata": {},
   "outputs": [
    {
     "name": "stdout",
     "output_type": "stream",
     "text": [
      "Enter first variable 5\n",
      "Enter second variable 6\n",
      "6\n",
      "5\n"
     ]
    }
   ],
   "source": [
    "# Q-5: Write a Python program to swap two variables without temp variable?\n",
    "\n",
    "a = int(input('Enter first variable '))\n",
    "b = int(input('Enter second variable '))\n",
    "\n",
    "a = a + b\n",
    "b = a - b\n",
    "a = a - b\n",
    "\n",
    "print(a)\n",
    "print(b)"
   ]
  },
  {
   "cell_type": "code",
   "execution_count": 30,
   "metadata": {},
   "outputs": [
    {
     "name": "stdout",
     "output_type": "stream",
     "text": [
      "Enter first variable abc\n",
      "Enter second variable def\n",
      "def\n",
      "abc\n"
     ]
    }
   ],
   "source": [
    "# Q-5: Write a Python program to swap two variables without temp variable? for all data type\n",
    "\n",
    "a = input('Enter first variable ')\n",
    "b = input('Enter second variable ')\n",
    "\n",
    "a, b = b, a\n",
    "\n",
    "print(a)\n",
    "print(b)"
   ]
  },
  {
   "cell_type": "code",
   "execution_count": null,
   "metadata": {},
   "outputs": [],
   "source": []
  }
 ],
 "metadata": {
  "kernelspec": {
   "display_name": "Python 3",
   "language": "python",
   "name": "python3"
  },
  "language_info": {
   "codemirror_mode": {
    "name": "ipython",
    "version": 3
   },
   "file_extension": ".py",
   "mimetype": "text/x-python",
   "name": "python",
   "nbconvert_exporter": "python",
   "pygments_lexer": "ipython3",
   "version": "3.8.5"
  }
 },
 "nbformat": 4,
 "nbformat_minor": 4
}
